{
 "cells": [
  {
   "cell_type": "markdown",
   "metadata": {},
   "source": [
    "# CVL Visualization Examples\n",
    "\n",
    "This notebook illustrates how to visualize GeoJSON, raster images and 3D geometry using the CVL 3D globe. Open https://cvl.eo.eas.int/ or https://nlive.norceresearch.no/cvl/ in a separate browser tab, then step through the notebook.\n",
    "\n",
    "## Setup\n",
    "\n",
    "We start by importing some modules and defining some helper functions."
   ]
  },
  {
   "cell_type": "code",
   "execution_count": null,
   "metadata": {},
   "outputs": [],
   "source": [
    "from viz import viz, VBO, Raster\n",
    "import os\n",
    "import sys\n",
    "import traceback\n",
    "import numpy as np\n",
    "import math\n",
    "import time\n",
    "import io\n",
    "from osgeo import osr\n",
    "from osgeo import gdal\n",
    "\n",
    "visualizer = viz()\n"
   ]
  },
  {
   "cell_type": "markdown",
   "metadata": {},
   "source": [
    "### post_3d_data\n",
    "\n",
    "This function is used to post 3D data to the visualization. The parameters are:\n",
    "\n",
    "- `key` : A key that is used to identify the object on the server.\n",
    "- `primitive` : The 3D primitive we want to render. Can be: `points`, `lines`, `linestrip`, `lineloop`, `triangles`, `trianglestrip`\n",
    "- `vertices` : (N,3), dtype=float64 array holding projected vertex data\n",
    "- `color` : (N, 1), dtype=uint32 array holding color values\n",
    "- `texcoord` : (N, 2), dtype=float32 array holding texture coordinates\n",
    "- `normal` : (N, 3), dtype=float32 array containing normalized vertex normals\n",
    "- `index` : (?,), dtype=uint32 array containing indices. If no index buffer is specified, an implicit index buffer containing the indices from 0 to N-1 is used.\n",
    "- `texture` : A bytes object containing texture data. The format of the texture must be either PNG or JPEG.\n",
    "- `compute_normals` : Only applicable when rendering triangles. Attempts to compute vertex normals based on the provided vertices and indices. Currently a bit unstable."
   ]
  },
  {
   "cell_type": "code",
   "execution_count": null,
   "metadata": {},
   "outputs": [],
   "source": [
    "def post_3d_data(key, primitive, vertices, color=None, texcoord=None, normal=None, index=None, texture=None, compute_normals=False):\n",
    "    #metadata = { \"path\" : \"Examples\", \"time_start\" : time.time()-601, \"time_stop\" : time.time()-601 }\n",
    "    metadata = { \"path\" : \"Examples\" }\n",
    "    vbo = VBO(primitive, projection=32633)\n",
    "    vbo.compute_normals = compute_normals\n",
    "    vbo.set_vertex(vertices)\n",
    "    vbo.set_color(color)\n",
    "    vbo.set_texcoord(texcoord)\n",
    "    vbo.set_normal(normal)\n",
    "    vbo.set_index(index)\n",
    "    vbo.texture = texture\n",
    "    visualizer.publish_vbo(key, metadata, vbo)"
   ]
  },
  {
   "cell_type": "markdown",
   "metadata": {},
   "source": [
    "### gen_index\n",
    "\n",
    "This function generates an index buffer rendering triangles. It assumes that the vertices are laid out as in a regular grid. Input parameters are the width and height of the grid."
   ]
  },
  {
   "cell_type": "code",
   "execution_count": null,
   "metadata": {},
   "outputs": [],
   "source": [
    "def gen_index(width, height):\n",
    "    verts_per_line = 2*width\n",
    "    tris_per_line = verts_per_line-2\n",
    "    num_tris = tris_per_line*(height-1)\n",
    "    num_index = num_tris*3\n",
    "    indices = np.zeros((num_index), dtype=np.uint32)\n",
    "    idx = 0\n",
    "    for y in range(0, height-1):\n",
    "        for x in range(0, width-1):\n",
    "            indices[idx+0]\t= ((y+1) * width) + x\n",
    "            indices[idx+1]\t= (y*width)+x\n",
    "            indices[idx+2]\t= (y*width)+x+1\n",
    "            indices[idx+3]\t= (y*width)+x+1\n",
    "            indices[idx+4]\t= ((y+1) * width) + x+1\n",
    "            indices[idx+5]\t= ((y+1) * width) + x\n",
    "            idx += 6\n",
    "    return indices\n"
   ]
  },
  {
   "cell_type": "markdown",
   "metadata": {},
   "source": [
    "## Rendering points and triangles\n",
    "\n",
    "Here we generate a bunch of points centered around a geographical origin. We also generate a color for each vertex."
   ]
  },
  {
   "cell_type": "code",
   "execution_count": null,
   "metadata": {
    "scrolled": true
   },
   "outputs": [],
   "source": [
    "origin = np.array((509389, 8686070, 700)) # The origin is in UTM 33.\n",
    "\n",
    "w = 100\n",
    "h = 100\n",
    "z = 0\n",
    "scale = 100\n",
    "num_points = w*h\n",
    "points = np.zeros((num_points, 3), dtype=np.float64)\n",
    "colors = np.zeros((w*h,), dtype=np.uint32)\n",
    "blue = 255\n",
    "alpha = 255\n",
    "for y in range(0, h):\n",
    "    yf = y/h\n",
    "    green = int(yf*255.0)\n",
    "    for x in range(0, w):\n",
    "        xf = x/w\n",
    "        xg = (xf-0.5)*2\n",
    "        yg = (yf-0.5)*2\n",
    "        d = math.sqrt(xg**2+yg**2)\n",
    "        index = (x+y*w)\n",
    "        points[index] = [ x*scale, y*scale, math.exp(-(d**2)/0.25)*5000]\n",
    "        red = int(xf*255.0)\n",
    "        # We use the VBO.rgb_to_color function to convert values in\n",
    "        # the range 0-255 to an appropriate uint32 color value. It is\n",
    "        # also possible to specify an alpha value (also in the range 0-255).\n",
    "        colors[index] = VBO.rgb_to_color(red, green, blue, alpha)\n",
    "\n",
    "# Finally, post the data we just created, first as points...        \n",
    "post_3d_data(\"Example points\", \"points\", points+origin, colors)\n",
    "# Then generate an index buffer and render the same geometry, slightly offset, as triangles\n",
    "index = gen_index(w, h)\n",
    "post_3d_data(\"Example mesh\", \"triangles\", points+origin+[w*1.1*scale, 0, 600], colors, index=index, compute_normals=True)\n"
   ]
  },
  {
   "cell_type": "markdown",
   "metadata": {},
   "source": [
    "### Drawing lines"
   ]
  },
  {
   "cell_type": "code",
   "execution_count": null,
   "metadata": {},
   "outputs": [],
   "source": [
    "points = np.zeros((4, 3), dtype=np.float64)\n",
    "colors = np.zeros((4), dtype=np.uint32)\n",
    "points[0] = origin\n",
    "points[1] = origin+[1000, 0, 0]\n",
    "points[2] = origin+[1000, 1000, 0]\n",
    "points[3] = origin+[0, 1000, 0]\n",
    "colors[0] = 0xffffffff\n",
    "colors[1] = 0xffffffff\n",
    "colors[2] = 0xffffffff\n",
    "colors[3] = 0xffffffff\n",
    "\n",
    "post_3d_data(\"Example lines\", \"lineloop\", points, colors)\n"
   ]
  },
  {
   "cell_type": "markdown",
   "metadata": {},
   "source": [
    "### Adding a texture"
   ]
  },
  {
   "cell_type": "code",
   "execution_count": null,
   "metadata": {},
   "outputs": [],
   "source": [
    "# Note that the ordering of the points is different here, compared to the lines above.\n",
    "points[0] = origin\n",
    "points[1] = origin+[1000, 0, 0]\n",
    "points[2] = origin+[0, 1000, 0]\n",
    "points[3] = origin+[1000, 1000, 0]\n",
    "\n",
    "texcoords = np.zeros((4, 2), dtype=np.float32)\n",
    "texcoords[0] = [0, 0]\n",
    "texcoords[1] = [1, 0]\n",
    "texcoords[2] = [0, 1]\n",
    "texcoords[3] = [1, 1]\n",
    "index = gen_index(2,2)\n",
    "\n",
    "with open(\"texture.jpg\", \"rb\") as fd:\n",
    "    texture = fd.read()\n",
    "\n",
    "post_3d_data(\"Example texture\", \"triangles\", points+[1200,0,0], None, texcoord=texcoords, index=index, texture=texture)"
   ]
  },
  {
   "cell_type": "markdown",
   "metadata": {},
   "source": [
    "## GeoJSON\n",
    "\n",
    "Visualizing GeoJSON is easy. First, some setup to reproject from UTM 33 to WGS 84:"
   ]
  },
  {
   "cell_type": "code",
   "execution_count": null,
   "metadata": {},
   "outputs": [],
   "source": [
    "must_set_axis_mapping = int(gdal.VersionInfo()) > 3 * 1000000\n",
    "src = osr.SpatialReference()\n",
    "src.ImportFromEPSG(32633)\n",
    "tgt = osr.SpatialReference()\n",
    "tgt.ImportFromEPSG(4326)\n",
    "if must_set_axis_mapping:\n",
    "    tgt.SetAxisMappingStrategy(osr.OAMS_TRADITIONAL_GIS_ORDER)\n",
    "xform = osr.CoordinateTransformation(src, tgt)"
   ]
  },
  {
   "cell_type": "markdown",
   "metadata": {},
   "source": [
    "Next, we create function that returns a polygon according to the GeoJSON specification. As part of this, generated points are reprojected to WGS84:"
   ]
  },
  {
   "cell_type": "code",
   "execution_count": null,
   "metadata": {},
   "outputs": [],
   "source": [
    "def create_polygon(origin, size):\n",
    "    polygon = [ (origin[0]-size, origin[1]-size),\n",
    "                (origin[0]+size, origin[1]-size),\n",
    "                (origin[0]+size, origin[1]+size),\n",
    "                (origin[0]-size, origin[1]+size)]\n",
    "    polygon = xform.TransformPoints(polygon)\n",
    "    # Repeat the initial point\n",
    "    polygon.append(polygon[0])\n",
    "    return [ polygon ]"
   ]
  },
  {
   "cell_type": "markdown",
   "metadata": {},
   "source": [
    "Finally, create a dictionary holding the GeoJSON itself, and embed it in the metadata for the object. Note that we can specify the stroke color, stroke width and fill color by attaching the properties `stroke`, `fill` and `strokeWidth` to the `properties` part of any given GeoJSON `Feature`. The allowed values for `stroke` and `fill` are valid CSS colors (e.g `#rrggbb`, `#rgb`, `rgba(r, g, b, a)`). For the latter syntax, red, green and blue values range from 0-255 and the alpha value ranges from 0-1."
   ]
  },
  {
   "cell_type": "code",
   "execution_count": null,
   "metadata": {},
   "outputs": [],
   "source": [
    "geojson = { \"type\" : \"Feature\",\n",
    "            \"geometry\" : {\n",
    "                \"type\" : \"Polygon\",\n",
    "                \"coordinates\" : create_polygon(origin, 2500) },\n",
    "             \"properties\" : { \"info\" : \"A particularly interesting area\",\n",
    "                              \"stroke\" : \"#fff\",\n",
    "                              \"fill\" : \"rgba(128, 0, 0, 0.5)\",\n",
    "                              \"strokeWidth\" : \"5.0\"} }\n",
    "metadata = { \"path\" : \"Examples\", \"geojson\" : geojson }\n",
    "print(metadata)\n",
    "visualizer.publish_geojson(\"Example GeoJSON\", metadata)"
   ]
  },
  {
   "cell_type": "markdown",
   "metadata": {},
   "source": [
    "## Raster\n",
    "\n",
    "Publishing a raster image requires building a reprojection grid that will be used when visualizing the image. The grid can be specified to an arbitrary resolution. Bi-linear interpolation on the GPU is used to stretch the image's pixels between 4 neighbouring grid points."
   ]
  },
  {
   "cell_type": "code",
   "execution_count": null,
   "metadata": {},
   "outputs": [],
   "source": [
    "# We still have our points in the order we want them,\n",
    "# but we have no need for the Z (height) coordinate any longer\n",
    "points = np.zeros((9,3), dtype=np.float64)\n",
    "for y in range(0,3):\n",
    "    for x in range(0,3):\n",
    "        points[y*3+x] = origin+[500*x, 500*y, 0]\n",
    "\n",
    "raster = Raster(np.array(points[:, 0:2]), [3,3], 32633, image_data=texture)\n",
    "metadata = { \"path\" : \"Examples\" }\n",
    "visualizer.publish_raster(\"A raster image\", metadata, raster)"
   ]
  },
  {
   "cell_type": "markdown",
   "metadata": {},
   "source": [
    "# Timeseries\n",
    "\n",
    "Any of the objects above can be incorporated in a timeseries by including the fields `time_start` and `time_stop` in the metadata associated with an object. The timestamp must be an epoch timestamp in the UTC time zone.\n",
    "\n",
    "The following example illustrates a GeoJSON timeseries using the polygon function we created earlier. By adjusting the time window exposed by the visualization or moving the time slider, different parts of the data can be visualized.\n"
   ]
  },
  {
   "cell_type": "code",
   "execution_count": null,
   "metadata": {},
   "outputs": [],
   "source": [
    "timestamp = time.time()\n",
    "for i in range(0, 100):\n",
    "    origin = np.array((509389-2000, 8686070, 0))\n",
    "    factor = i/50.-1.\n",
    "    metadata = { \"path\" : \"Examples\", \"name\" : \"Timeseries GeoJSON\" }\n",
    "    geojson = { \"type\" : \"Feature\",\n",
    "            \"geometry\" : {\n",
    "                \"type\" : \"Polygon\",\n",
    "                \"coordinates\" : create_polygon(origin+(factor*5000, factor*5000, 0), 25+abs(factor*25)) },\n",
    "             \"properties\" : { \"stroke\" : \"#fff\",\n",
    "                              \"fill\" : None,\n",
    "                              \"strokeWidth\" : \"1.0\"} }\n",
    "    metadata[\"geojson\"] = geojson\n",
    "    metadata[\"time_start\"] = timestamp-i*10\n",
    "    metadata[\"time_stop\"] = timestamp-i*10\n",
    "    visualizer.publish_geojson(f\"timeseries-geojson-{i}\", metadata)\n"
   ]
  },
  {
   "cell_type": "markdown",
   "metadata": {},
   "source": [
    "# Control\n",
    "\n",
    "The visualization can be controlled from Python by calling various methods on the visualizer object. Any updates made in this manner occur in realtime. The available methods are:\n",
    "\n",
    "- `look_at(eye, target, duration)`\n",
    "- `set_time(timestamp)`\n",
    "- `set_time_window(window_size)`\n",
    "- `query()`\n",
    "\n",
    "The `query()` method returns an array containing the current view and timing state of all currently connected visualization frontends.\n"
   ]
  },
  {
   "cell_type": "code",
   "execution_count": null,
   "metadata": {},
   "outputs": [],
   "source": [
    "visualizer.look_at([19.115, 69.50937, 5000], [18.953, 69.67313, 0], 1)\n",
    "now = time.time()\n",
    "one_day = 24*60*60\n",
    "visualizer.set_time(now-60*60*4)\n",
    "visualizer.set_time_window(600)\n",
    "result = visualizer.query()\n",
    "print(result)"
   ]
  },
  {
   "cell_type": "markdown",
   "metadata": {},
   "source": [
    "# Metadata Reference\n",
    "\n",
    "Some fields in an object's metadata have special meanings. The special fields are described below.\n",
    "\n",
    "## `name`\n",
    "\n",
    "If this field is present, this object will be grouped with others sharing the same `name` in the user interface. It is a good idea for timeseries or other datasets where you expect to have many objects (more 20-50) to use group objects in using this field, since the user interface can become a bottleneck when updating or rendering. If an object doesn't have a `name`, the object's `key` is used to name it in the user interface instead. (Note that the `key` isn't part of the metadata - it is specified separately when publishing an object.)\n",
    "\n",
    "## `time_start` and `time_end`\n",
    "\n",
    "To have timeseries appear in the timeline and be subject to the clock (automatically hide elements outside the current time window), these fields must be present.\n",
    "\n",
    "## `path`\n",
    "\n",
    "You can use the `path` field to structure the user interface hierarchically. An empty or missing path will place objects at the top level of the user interface. To add directories, simply specify a path like `Examples.Raster`, which will create a tree two levels deep containing the object(s) with the same `path` within."
   ]
  },
  {
   "cell_type": "markdown",
   "metadata": {},
   "source": [
    "# Threading Notes\n",
    "\n",
    "The viz object defaults to using threads to process and post updates to the server. Your code should be aware of this fact, and treat items that are posted as immutable. If you can't do this, initialize the visualizer instance with viz(threaded=False)."
   ]
  }
 ],
 "metadata": {
  "kernelspec": {
   "display_name": "Python 3 (ipykernel)",
   "language": "python",
   "name": "python3"
  },
  "language_info": {
   "codemirror_mode": {
    "name": "ipython",
    "version": 3
   },
   "file_extension": ".py",
   "mimetype": "text/x-python",
   "name": "python",
   "nbconvert_exporter": "python",
   "pygments_lexer": "ipython3",
   "version": "3.9.6"
  }
 },
 "nbformat": 4,
 "nbformat_minor": 2
}
